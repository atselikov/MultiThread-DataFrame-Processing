{
 "cells": [
  {
   "cell_type": "code",
   "execution_count": 8,
   "metadata": {
    "ExecuteTime": {
     "end_time": "2017-06-07T09:01:44.450360Z",
     "start_time": "2017-06-07T09:01:44.440307"
    },
    "collapsed": true
   },
   "outputs": [],
   "source": [
    "import numpy as np\n",
    "import pandas as pd\n",
    "import time\n",
    "from BF import make_features, make_table, make_features2, make_table2, load_df\n",
    "import xgboost as xgb\n",
    "from sklearn.metrics import roc_auc_score\n",
    "import pickle\n",
    "import multiprocessing as mp\n",
    "pd.options.mode.chained_assignment = None\n",
    "from multiprocessing import Pool, cpu_count"
   ]
  },
  {
   "cell_type": "code",
   "execution_count": 2,
   "metadata": {
    "ExecuteTime": {
     "end_time": "2017-06-07T08:47:09.597002Z",
     "start_time": "2017-06-07T08:47:09.575411"
    }
   },
   "outputs": [
    {
     "data": {
      "text/plain": [
       "'0.6'"
      ]
     },
     "execution_count": 2,
     "metadata": {},
     "output_type": "execute_result"
    }
   ],
   "source": [
    "xgb.__version__"
   ]
  },
  {
   "cell_type": "code",
   "execution_count": 4,
   "metadata": {
    "ExecuteTime": {
     "end_time": "2017-06-07T09:05:06.601871Z",
     "start_time": "2017-06-07T09:05:06.595296"
    }
   },
   "outputs": [
    {
     "data": {
      "text/plain": [
       "32"
      ]
     },
     "execution_count": 4,
     "metadata": {},
     "output_type": "execute_result"
    }
   ],
   "source": [
    "cpu_count()"
   ]
  },
  {
   "cell_type": "markdown",
   "metadata": {},
   "source": [
    "# Define \"process\" func to put to pool"
   ]
  },
  {
   "cell_type": "code",
   "execution_count": null,
   "metadata": {
    "collapsed": true
   },
   "outputs": [],
   "source": [
    "def correct_date(x):\n",
    "    try:\n",
    "        if int(x[:4])<1960:\n",
    "            return '1960-01-01 00:00:00.0'\n",
    "        else:\n",
    "            return x        \n",
    "    except:\n",
    "        return '1960-01-01 00:00:00.0'   \n",
    "    \n",
    "def process(df): \n",
    "    df = df.replace('',np.nan)\n",
    "    for c in df.columns:\n",
    "        for dtype in [int, float]:\n",
    "            try:\n",
    "                df.loc[:,c] = df[c].astype(dtype)\n",
    "            except ValueError:\n",
    "                continue\n",
    "            except:\n",
    "                pass\n",
    "            else:\n",
    "                pass  \n",
    "        else:\n",
    "            pass\n",
    "    \n",
    "    for col in other_cols:\n",
    "        df[col] = df[col].fillna('nan')\n",
    "    for col in df.select_dtypes(include=['O']).columns:\n",
    "        if col not in date_cols+other_cols:\n",
    "            try:\n",
    "                df[col] = df[col].apply(lambda x: x.encode('utf-8').strip())\n",
    "            except:\n",
    "                #print col\n",
    "                pass\n",
    "             \n",
    "    \n",
    "    \n",
    "    for col in other_cols:\n",
    "        df[col] = df[col].fillna('nan')\n",
    "    for col in df.select_dtypes(include=['O']).columns:\n",
    "        if col not in date_cols+other_cols:\n",
    "            try:\n",
    "                df[col] = df[col].fillna('nan')\n",
    "                df[col] = df[col].apply(lambda x: x.encode('utf-8').strip())\n",
    "            except:\n",
    "                #print col\n",
    "                pass\n",
    "            \n",
    "            \n",
    "    df['subs_key'] = [str(int(x)) for x in df.subs_key]\n",
    "    df['ban_key'] = [str(int(x)) for x in df.ban_key]\n",
    "    df['dealer_code'] = df.dealer_code.astype(str)\n",
    "    df['int_state_6m'] = df.int_state_6m.astype(str)\n",
    "    \n",
    "    df['date'] = pd.to_datetime('2017-05-01', format='%Y-%m-%d') \n",
    "    df['app_activation_date'] = df.app_activation_date.apply(lambda x: correct_date(str(x)))\n",
    "    df['subs_activation_date_key'] = df.subs_activation_date_key.apply(lambda x: correct_date(str(x)))\n",
    "    df['date_suspend'] = df.date_suspend.apply(lambda x: correct_date(str(x)))\n",
    "    df['change_pp_date'] = df.change_pp_date.apply(lambda x: correct_date(str(x)))\n",
    "    \n",
    "    df['app_activation_date'] = pd.to_datetime(df.app_activation_date, format='%Y%m%d', errors='coerce')\n",
    "    df['subs_activation_date_key'] = pd.to_datetime(df.subs_activation_date_key, format='%Y-%m-%d ', errors='coerce')\n",
    "    df['date_suspend'] = pd.to_datetime(df.date_suspend, format='%Y-%m-%d ', errors='coerce')\n",
    "    df['change_pp_date'] = pd.to_datetime(df.change_pp_date, format='%Y-%m-%d ', errors='coerce')\n",
    "    df.max_period_days_6m = df.max_period_days_6m.fillna('nan')\n",
    "    df.avg_balance_6m = df.avg_balance_6m.fillna('nan')\n",
    "    df.customer_birth_date = df.customer_birth_date.fillna('nan')\n",
    "    df.customer_birth_date = df.customer_birth_date.astype(str)    \n",
    "    \n",
    "    data = make_features(df, tbl)\n",
    "    data2 = make_features2(df, tbl2)\n",
    "    est = bst.predict(xgb.DMatrix(data))\n",
    "    est2 = bst2.predict(xgb.DMatrix(data2))\n",
    "    est_rf = bst_rf.predict(xgb.DMatrix(data))\n",
    "        \n",
    "    return (est + est_rf + 0.45*est2) / (1+1+0.45)"
   ]
  },
  {
   "cell_type": "code",
   "execution_count": 6,
   "metadata": {
    "ExecuteTime": {
     "end_time": "2017-06-07T14:38:13.734350Z",
     "start_time": "2017-06-07T14:38:12.500056"
    }
   },
   "outputs": [
    {
     "name": "stdout",
     "output_type": "stream",
     "text": [
      "CPU times: user 76.4 ms, sys: 224 ms, total: 300 ms\n",
      "Wall time: 301 ms\n"
     ]
    }
   ],
   "source": [
    "%%time\n",
    "fdir=''\n",
    "bst = xgb.Booster({'nthread':1})\n",
    "bst2 = xgb.Booster({'nthread':1})\n",
    "bst_rf = xgb.Booster({'nthread':1})\n",
    "\n",
    "bst.load_model(fdir+'rBF_model.xgb')\n",
    "bst2.load_model(fdir+'rBF_model2.xgb')\n",
    "bst_rf.load_model(fdir+'rBF_model_rf.xgb')\n",
    "tbl = pickle.load(open(fdir+'rBF_tbl.pic'))\n",
    "tbl2 = pickle.load(open(fdir+'rBF_tbl2.pic'))\n",
    "\n",
    "date_cols = ['app_activation_date','subs_activation_date_key','date_suspend','change_pp_date']\n",
    "other_cols = ['customer_birth_date', 'avg_balance_6m', 'max_period_days_6m']"
   ]
  },
  {
   "cell_type": "code",
   "execution_count": 7,
   "metadata": {
    "ExecuteTime": {
     "end_time": "2017-06-07T14:38:13.741554Z",
     "start_time": "2017-06-07T14:38:13.736266"
    },
    "collapsed": true
   },
   "outputs": [],
   "source": [
    "col_names = ['subs_key', 'ban_key', 'market_key', 'account_type_key', 'dw_status_key', 'segment_key', 'cnt_ban_subs_1m', 'life_time', 'super_region_name', 'curr_subs_status_key', 'dealer_code', 'dealer_group_desc', 'class_device', 'type_device', 'arpu_total_m', 'arpu_total_avg_hy', 'arpu_int_roaming_m', 'arpu_onnet_roaming_m', 'arpu_voice_m', 'arpu_gprs_m', 'arpu_vas_m', 'arpu_wo_roam_m', 'arpu_mms_m', 'arpu_sms_m', 'cnt_voice_out_1m', 'voice_out_duration_1m', 'cnt_voice_in_1m', 'unic_ctn_cpa_1m', 'equipment_type_6m', 'equipment_type_1m', 'payment_method_1m', 'int_state_6m', 'cnt_roam_state_6m', 'charge_package_avg_6m', 'arpu_total_13m', 'app_activation_date', 'call_share_vip_6m', 'call_share_vip_1m', 'cnt_voice_to_sng_avg_6m', 'cnt_voice_to_wosng_avg_6m', 'cnt_call_to_region_1m', 'cnt_call_to_region_avg_6m', 'cnt_call_out_1m', 'cnt_call_out_avg_6m', 'subs_work_ind', 'sms_comp_num_avg_hy', 'avg_balance_6m', 'max_period_days_6m', 'change_pp_date', 'subs_activation_date_key', 'voice_in_duration_1m', 'date_suspend', 'first_ban', 'price_plan_key_eop', 'pp_group_eop', 'price_plan_desc_act', 'cust_fullname', 'first_ctn', 'customer_birth_date', 'month']"
   ]
  },
  {
   "cell_type": "markdown",
   "metadata": {},
   "source": [
    " # Main cycle multiprocessing by chunksize"
   ]
  },
  {
   "cell_type": "code",
   "execution_count": 9,
   "metadata": {
    "ExecuteTime": {
     "end_time": "2017-06-07T14:49:53.927286Z",
     "start_time": "2017-06-07T14:49:43.520561"
    }
   },
   "outputs": [
    {
     "name": "stderr",
     "output_type": "stream",
     "text": [
      "/opt/users/atselikov/anaconda2/lib/python2.7/site-packages/IPython/core/interactiveshell.py:2821: DtypeWarning: Columns (57,59) have mixed types. Specify dtype option on import or set low_memory=False.\n",
      "  if self.run_code(code, result):\n"
     ]
    },
    {
     "name": "stdout",
     "output_type": "stream",
     "text": [
      "2 250000 1.549\n",
      "3 500000 3.101\n",
      "4 750000 4.561\n",
      "5 1000000 5.938\n",
      "6 1250000 7.406\n",
      "7 1500000 8.773\n",
      "8 1750000 10.24\n",
      "9 2000000 11.64\n",
      "10 2250000 13.052\n",
      "11 2500000 14.524\n",
      "12 2750000 15.96\n",
      "13 3000000 17.39\n",
      "14 3250000 18.815\n",
      "15 3500000 20.195\n",
      "16 3750000 21.649\n",
      "17 4000000 23.137\n",
      "18 4250000 24.603\n",
      "19 4500000 26.01\n",
      "20 4750000 27.486\n",
      "21 5000000 28.872\n",
      "22 5250000 30.293\n",
      "23 5500000 31.793\n",
      "24 5750000 33.314\n",
      "25 6000000 34.716\n",
      "26 6250000 36.133\n",
      "27 6500000 37.503\n",
      "28 6750000 38.884\n",
      "29 7000000 40.316\n",
      "30 7250000 41.708\n",
      "31 7500000 43.166\n",
      "32 7750000 44.739\n",
      "33 8000000 46.213\n",
      "34 8250000 47.661\n",
      "35 8500000 49.043\n",
      "36 8750000 50.422\n",
      "37 9000000 51.849\n",
      "37 some error 9000000\n",
      "39 9250000 54.55\n",
      "40 9500000 55.994\n",
      "41 9750000 57.473\n",
      "42 10000000 58.983\n",
      "43 10250000 60.376\n",
      "44 10500000 61.956\n",
      "45 10750000 63.389\n",
      "46 11000000 64.835\n",
      "47 11250000 66.398\n",
      "48 11500000 67.848\n",
      "49 11750000 69.293\n",
      "49 some error 11750000\n",
      "51 12000000 72.162\n",
      "52 12250000 73.785\n",
      "53 12500000 75.269\n",
      "54 12750000 76.73\n",
      "55 13000000 78.177\n",
      "56 13250000 79.62\n",
      "57 13500000 81.087\n",
      "58 13750000 82.535\n",
      "59 14000000 84.025\n",
      "60 14250000 85.502\n",
      "61 14500000 87.109\n",
      "62 14750000 88.721\n",
      "63 15000000 90.191\n",
      "64 15250000 91.611\n",
      "65 15500000 93.187\n",
      "66 15750000 94.614\n",
      "67 16000000 96.184\n",
      "68 16250000 97.623\n",
      "69 16500000 99.123\n",
      "70 16750000 100.613\n",
      "71 17000000 102.248\n",
      "72 17250000 103.637\n",
      "73 17500000 105.241\n",
      "74 17750000 106.666\n",
      "75 18000000 108.092\n",
      "76 18250000 109.527\n",
      "77 18500000 111.043\n",
      "78 18750000 112.533\n",
      "79 19000000 114.109\n",
      "80 19250000 115.632\n",
      "81 19500000 117.155\n",
      "82 19750000 118.629\n",
      "83 20000000 120.018\n",
      "84 20250000 121.424\n",
      "84 some error 20250000\n",
      "86 20500000 124.113\n",
      "87 20750000 125.705\n",
      "88 21000000 127.214\n",
      "89 21250000 128.674\n",
      "90 21500000 130.386\n",
      "90 some error 21500000\n",
      "92 21750000 133.204\n",
      "93 22000000 134.682\n",
      "94 22250000 136.424\n",
      "95 22500000 137.992\n",
      "96 22750000 139.578\n",
      "97 23000000 141.252\n",
      "98 23250000 142.966\n",
      "99 23500000 144.508\n",
      "100 23750000 146.167\n",
      "101 24000000 147.599\n",
      "102 24250000 149.158\n",
      "103 24500000 150.58\n",
      "104 24750000 152.276\n",
      "105 25000000 153.838\n",
      "106 25250000 155.303\n",
      "107 25500000 156.802\n",
      "108 25750000 158.305\n",
      "109 26000000 159.807\n",
      "110 26250000 161.564\n",
      "111 26500000 163.14\n",
      "112 26750000 164.756\n",
      "113 27000000 166.244\n",
      "114 27250000 167.703\n",
      "115 27500000 169.262\n",
      "116 27750000 170.779\n",
      "117 28000000 172.458\n",
      "118 28250000 174.227\n",
      "119 28500000 175.846\n",
      "120 28750000 177.331\n",
      "121 29000000 178.88\n",
      "122 29250000 180.439\n",
      "123 29500000 182.051\n",
      "124 29750000 183.599\n",
      "125 30000000 185.152\n",
      "126 30250000 186.86\n",
      "127 30500000 188.593\n",
      "128 30750000 190.199\n",
      "129 31000000 191.742\n",
      "130 31250000 193.177\n",
      "131 31500000 194.702\n",
      "132 31750000 196.168\n",
      "133 32000000 197.653\n",
      "134 32250000 199.152\n",
      "134 some error 32250000\n",
      "136 32500000 201.806\n",
      "137 32750000 203.292\n",
      "138 33000000 204.797\n",
      "139 33250000 206.291\n",
      "140 33500000 207.69\n",
      "141 33750000 209.179\n",
      "142 34000000 210.65\n",
      "143 34250000 212.197\n",
      "144 34500000 213.75\n",
      "145 34750000 215.198\n",
      "146 35000000 216.71\n",
      "147 35250000 218.241\n",
      "148 35500000 219.724\n",
      "149 35750000 221.238\n",
      "150 36000000 222.688\n",
      "151 36250000 224.153\n",
      "152 36500000 225.658\n",
      "153 36750000 227.189\n",
      "154 37000000 228.68\n",
      "155 37250000 230.182\n",
      "156 37500000 231.702\n",
      "157 37750000 233.24\n",
      "158 38000000 234.739\n",
      "159 38250000 236.287\n",
      "160 38500000 237.765\n",
      "161 38750000 239.3\n",
      "162 39000000 240.747\n",
      "163 39250000 242.254\n",
      "164 39500000 243.738\n",
      "165 39750000 245.207\n",
      "166 40000000 246.66\n",
      "167 40250000 248.111\n",
      "168 40500000 249.631\n",
      "169 40750000 251.121\n",
      "170 41000000 252.624\n",
      "171 41250000 254.12\n",
      "172 41500000 255.642\n",
      "173 41750000 257.074\n",
      "174 42000000 258.542\n",
      "175 42250000 260.091\n",
      "176 42500000 261.563\n",
      "177 42750000 262.993\n",
      "178 43000000 264.465\n",
      "179 43250000 265.989\n",
      "180 43500000 267.57\n",
      "181 43750000 269.114\n",
      "182 44000000 270.571\n",
      "183 44250000 272.013\n",
      "184 44500000 273.47\n",
      "185 44750000 274.891\n",
      "186 45000000 276.367\n",
      "187 45250000 277.804\n",
      "188 45500000 279.334\n",
      "189 45750000 280.863\n",
      "190 46000000 282.353\n",
      "191 46250000 283.868\n",
      "192 46500000 285.307\n",
      "193 46750000 286.801\n",
      "194 47000000 288.273\n",
      "195 47250000 289.699\n",
      "196 47500000 291.18\n",
      "197 47750000 292.678\n",
      "198 48000000 294.165\n",
      "199 48250000 295.675\n",
      "200 48500000 297.214\n",
      "201 48750000 298.718\n",
      "202 49000000 300.21\n",
      "203 49250000 301.703\n",
      "204 49286107 301.994\n"
     ]
    }
   ],
   "source": [
    "chunksize = 250000 \n",
    "NPROC=30\n",
    "t0 = time.time()\n",
    "FILENAME = 'fs_to_score07_corr.csv'\n",
    "xdir='~/'\n",
    "II=1\n",
    "for big_df in pd.read_csv(xdir+FILENAME,  na_filter=False, delimiter=',', \\\n",
    "                          chunksize=chunksize, header=None, names=col_names):\n",
    "    try: \n",
    "        if II<0: \n",
    "            n+=len(big_df)\n",
    "            print II, n, round((time.time()-t0)/60.,3)\n",
    "            II+=1\n",
    "            continue\n",
    "        else:\n",
    "            pass    \n",
    "        \n",
    "        p = mp.Pool(processes=NPROC)\n",
    "        split_dfs = np.array_split(big_df,NPROC)\n",
    "        for i in range(NPROC):\n",
    "            split_dfs[i] = split_dfs[i].reset_index(drop=True)\n",
    "            \n",
    "        pool_results = p.map(process, split_dfs)\n",
    "        p.close()\n",
    "        p.join()\n",
    "        \n",
    "        scores = np.hstack(pool_results)\n",
    "        big_df['score'] = scores\n",
    "        if II==1:\n",
    "            res = big_df[['subs_key', 'score']].copy()\n",
    "        else:\n",
    "            res = pd.concat((res, big_df[['subs_key', 'score']]))\n",
    "        II+=1\n",
    "        print II, len(res), round((time.time()-t0)/60.,3)\n",
    "    except:\n",
    "        print II, 'some error', len(res)\n",
    "        big_df.to_csv(fdir+str(II)+'_error_data.csv', index=False)\n",
    "        II+=1\n",
    "        pass   "
   ]
  },
  {
   "cell_type": "code",
   "execution_count": 10,
   "metadata": {},
   "outputs": [
    {
     "data": {
      "text/plain": [
       "(49286107, 2)"
      ]
     },
     "execution_count": 10,
     "metadata": {},
     "output_type": "execute_result"
    }
   ],
   "source": [
    "np.shape(res)"
   ]
  },
  {
   "cell_type": "code",
   "execution_count": 11,
   "metadata": {
    "ExecuteTime": {
     "end_time": "2017-04-23T22:06:35.761198Z",
     "start_time": "2017-04-23T22:05:30.289985"
    },
    "collapsed": true
   },
   "outputs": [],
   "source": [
    "res.to_csv(fdir+'fr_07.csv', index=False)"
   ]
  },
  {
   "cell_type": "code",
   "execution_count": 9,
   "metadata": {
    "ExecuteTime": {
     "end_time": "2017-03-31T09:27:33.349711Z",
     "start_time": "2017-03-31T09:27:31.792036"
    }
   },
   "outputs": [
    {
     "name": "stdout",
     "output_type": "stream",
     "text": [
      "CPU times: user 1.05 s, sys: 295 ms, total: 1.35 s\n",
      "Wall time: 1.33 s\n"
     ]
    },
    {
     "data": {
      "image/png": "[encoded data removed]",
      "text/plain": [
       "<matplotlib.figure.Figure at 0x7f58bb365d90>"
      ]
     },
     "metadata": {},
     "output_type": "display_data"
    }
   ],
   "source": [
    "import matplotlib.pyplot as plt\n",
    "%matplotlib inline  \n",
    "res.score.hist(bins=20)"
   ]
  }
 ],
 "metadata": {
  "anaconda-cloud": {},
  "kernelspec": {
   "display_name": "Python 3",
   "language": "python",
   "name": "python3"
  },
  "language_info": {
   "codemirror_mode": {
    "name": "ipython",
    "version": 3
   },
   "file_extension": ".py",
   "mimetype": "text/x-python",
   "name": "python",
   "nbconvert_exporter": "python",
   "pygments_lexer": "ipython3",
   "version": "3.6.1"
  }
 },
 "nbformat": 4,
 "nbformat_minor": 2
}
